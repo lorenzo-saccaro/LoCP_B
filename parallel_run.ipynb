{
 "cells": [
  {
   "cell_type": "code",
   "execution_count": 2,
   "id": "41764e45-fe0f-4484-80f1-555837600703",
   "metadata": {},
   "outputs": [],
   "source": [
    "from dask.distributed import Client, LocalCluster\n",
    "from run_sim import run_sim\n",
    "import numpy as np\n",
    "from itertools import product"
   ]
  },
  {
   "cell_type": "code",
   "execution_count": 4,
   "id": "2411a5c5-6b82-4e6e-98b4-9f823170b9d7",
   "metadata": {},
   "outputs": [],
   "source": [
    "cluster = LocalCluster(n_workers=4, threads_per_worker=1)\n",
    "client = Client(cluster)\n"
   ]
  },
  {
   "cell_type": "code",
   "execution_count": 5,
   "id": "51ff44ec-81cf-44ac-882e-1cc94827fc7c",
   "metadata": {},
   "outputs": [],
   "source": [
    "\n",
    "x_s_val = [2*np.sqrt(2), 4*np.sqrt(2)]\n",
    "d_scale_val = [0, -0.010] \n",
    "mu_val = [0.1]\n",
    "sim_length = [300]\n",
    "\n",
    "\n",
    "par_list = list(product(x_s_val,d_scale_val,mu_val,sim_length))\n",
    "\n"
   ]
  },
  {
   "cell_type": "code",
   "execution_count": 6,
   "id": "9aeda63f-ac04-4aa5-8242-e8656cc5d0ac",
   "metadata": {},
   "outputs": [
    {
     "data": {
      "text/plain": [
       "[(2.8284271247461903, 0, 0.1, 300),\n",
       " (2.8284271247461903, -0.01, 0.1, 300),\n",
       " (5.656854249492381, 0, 0.1, 300),\n",
       " (5.656854249492381, -0.01, 0.1, 300)]"
      ]
     },
     "execution_count": 6,
     "metadata": {},
     "output_type": "execute_result"
    }
   ],
   "source": [
    "par_list"
   ]
  },
  {
   "cell_type": "code",
   "execution_count": 7,
   "id": "67929fe6-25f3-46a2-a25c-00c7d39a8f8e",
   "metadata": {},
   "outputs": [],
   "source": [
    "futs = client.map(run_sim, *(zip(*par_list)))"
   ]
  },
  {
   "cell_type": "code",
   "execution_count": null,
   "id": "84b36707-0034-417f-95ac-6505b8c88cc5",
   "metadata": {},
   "outputs": [],
   "source": []
  }
 ],
 "metadata": {
  "kernelspec": {
   "display_name": "Python [conda env:SINDy]",
   "language": "python",
   "name": "conda-env-SINDy-py"
  },
  "language_info": {
   "codemirror_mode": {
    "name": "ipython",
    "version": 3
   },
   "file_extension": ".py",
   "mimetype": "text/x-python",
   "name": "python",
   "nbconvert_exporter": "python",
   "pygments_lexer": "ipython3",
   "version": "3.8.13"
  }
 },
 "nbformat": 4,
 "nbformat_minor": 5
}
