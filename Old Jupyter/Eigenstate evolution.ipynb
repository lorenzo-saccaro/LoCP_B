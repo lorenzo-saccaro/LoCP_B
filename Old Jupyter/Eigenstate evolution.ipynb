{
 "cells": [
  {
   "cell_type": "markdown",
   "metadata": {
    "cell_id": "2ee06a6e7f564bee820430cd890d5064",
    "deepnote_cell_height": 70,
    "deepnote_cell_type": "markdown",
    "tags": []
   },
   "source": [
    "## Eigenstate Evolution"
   ]
  },
  {
   "cell_type": "code",
   "execution_count": null,
   "metadata": {
    "cell_id": "0a1196fa-c3cd-4515-9d39-ae7d1b687bc2",
    "deepnote_cell_height": 225,
    "deepnote_cell_type": "code",
    "deepnote_to_be_reexecuted": false,
    "execution_millis": 2472,
    "execution_start": 1652949918968,
    "owner_user_id": "9d997879-e49e-4089-aa28-9bbca9c4fd37",
    "source_hash": "8aa3d58c",
    "tags": []
   },
   "outputs": [],
   "source": [
    "import numpy as np\n",
    "import pandas as pd\n",
    "\n",
    "import matplotlib.pyplot as plt\n",
    "from matplotlib import animation\n",
    "\n",
    "from scipy import integrate\n",
    "from scipy import sparse\n",
    "from scipy.linalg import eigh_tridiagonal"
   ]
  },
  {
   "cell_type": "code",
   "execution_count": null,
   "metadata": {
    "cell_id": "00001-b71bd5a1-4546-4a13-bb64-d9a58313f13f",
    "deepnote_cell_height": 603,
    "deepnote_cell_type": "code",
    "deepnote_to_be_reexecuted": false,
    "execution_millis": 0,
    "execution_start": 1652953494652,
    "source_hash": "250f8038",
    "tags": []
   },
   "outputs": [],
   "source": [
    "Nx = 512                   # number of points -1\n",
    "x = np.linspace(-7.5, 7.5, Nx)  # spatial grid points\n",
    "dx = x[1]-x[0]              # spatial separation\n",
    "\n",
    "Nt = 400                 # time interval for snapshots\n",
    "t0 = 0.0                    # initial time\n",
    "tf = 10                     # final time\n",
    "t = np.linspace(t0, tf, Nt)\n",
    "dt = t[1]-t[0]\n",
    "\n",
    "\n",
    "# Physics constant\n",
    "kx = 2000                   # wave number\n",
    "m = 1                       # mass\n",
    "sigma0 = 0.1                # width of initial gaussian wave-packet\n",
    "mu0 = -3                  # center of initial gaussian wave-packet\n",
    "hbar = 1                    # reduced plank constant\n",
    "A = 1.0 / (sigma0 * np.sqrt(np.pi))  # normalization constant\n",
    "w0 = 1                               # omega for harmonic potential\n",
    "\n",
    "# Create initial wavefuncition as a Gaussian moving from left to right\n",
    "#psi0 = np.sqrt(A)*np.exp(-0.5*((x-mu0)/sigma0)**2) * np.exp(1j * kx * x)\n",
    "\n",
    "# Create initial wavefunction as coherent state\n",
    "psi0 = (m*w0/np.pi*hbar)**(1/4)*np.exp(-(0.5*m*w0/hbar)*(x-mu0)**2)\n",
    "const= 1/np.sqrt(np.sum(np.abs(psi0)**2)*dx) #normalization constant\n",
    "psi0 = psi0*const\n",
    "\n",
    "\n"
   ]
  },
  {
   "cell_type": "code",
   "execution_count": null,
   "metadata": {
    "cell_id": "00002-60a51522-6cc9-4d8f-a190-22b53c67dfd1",
    "deepnote_cell_height": 315,
    "deepnote_cell_type": "code",
    "deepnote_to_be_reexecuted": false,
    "execution_millis": 3,
    "execution_start": 1652953495776,
    "source_hash": "3a396d1d",
    "tags": []
   },
   "outputs": [],
   "source": [
    "# define potentials to use \n",
    "\n",
    "def Heaviside(x, x_0=0, V_high=0):\n",
    "    return np.where(x>x_0, V_high, 0)\n",
    "    \n",
    "\n",
    "def barrier(x, a=-1/2, b=1/2, V_high=1):\n",
    "    if a>=b:\n",
    "        raise ValueError(\"b must be greater than a\")\n",
    "\n",
    "    return np.where((x>a) & (x<b), V_high, 0)\n",
    "\n",
    "def Harmonic (x, w=1):\n",
    "    return 0.5* (x)**2 * w**2"
   ]
  },
  {
   "cell_type": "code",
   "execution_count": null,
   "metadata": {
    "cell_id": "00003-65701c06-5e0d-4b62-a324-b06c201af625",
    "deepnote_cell_height": 609,
    "deepnote_cell_type": "code",
    "deepnote_output_heights": [
     null,
     250
    ],
    "deepnote_to_be_reexecuted": false,
    "execution_millis": 238,
    "execution_start": 1652953504446,
    "owner_user_id": "c6891596-1c54-43ca-8d22-b9b993dd41cb",
    "source_hash": "b98aa36b",
    "tags": []
   },
   "outputs": [
    {
     "name": "stdout",
     "output_type": "stream",
     "text": [
      "Total Probability:  1.0\n"
     ]
    },
    {
     "data": {
      "image/png": "[encoded data removed]",
      "text/plain": [
       "<Figure size 432x288 with 1 Axes>"
      ]
     },
     "metadata": {
      "image/png": {
       "height": 248,
       "width": 372
      },
      "needs_background": "light"
     },
     "output_type": "display_data"
    }
   ],
   "source": [
    "# Potential V(x)\n",
    "\n",
    "#V_high = 2*kx**2/2\n",
    "#x0 = 0\n",
    "#def V(x): return Heaviside(x, x_0=x0, V_high=V_high)\n",
    "\n",
    "def V(x): return Harmonic(x, w=w0)\n",
    "\n",
    "# Plot of i.c. & potential\n",
    "plt.plot(x, np.abs(psi0)**2, label='\\u03c8\\u2080')\n",
    "plt.plot(x,V(x)/10, label='V(x)')\n",
    "plt.legend()\n",
    "print(\"Total Probability: \", np.sum(np.abs(psi0)**2)*dx)"
   ]
  },
  {
   "cell_type": "code",
   "execution_count": null,
   "metadata": {
    "cell_id": "305315695f2e4ca495ae3b85441a45c4",
    "deepnote_cell_height": 261,
    "deepnote_cell_type": "code",
    "deepnote_to_be_reexecuted": false,
    "execution_millis": 3,
    "execution_start": 1652953506616,
    "source_hash": "1312310d",
    "tags": []
   },
   "outputs": [],
   "source": [
    "# BOX BOUNDARY CONDITION: add a 0 in front and at the end of every autovector.\n",
    "#d = 1/dx**2 + V(x)[1:-1]\n",
    "#e = -1/(2*dx**2) * np.ones(len(d)-1)\n",
    "\n",
    "# FREE BOUNDARY CONDITION:\n",
    "d = 1/dx**2 + V(x)\n",
    "e = -1/(2*dx**2) * np.ones(len(d)-1)\n",
    "\n",
    "# Solve eigenvalue problem for tridiagonal matrix\n",
    "# w are autovalues, v are autovectors\n",
    "w, v = eigh_tridiagonal(d, e)"
   ]
  },
  {
   "cell_type": "code",
   "execution_count": null,
   "metadata": {
    "cell_id": "d854941a43684f8cb0e707443b376a36",
    "deepnote_cell_height": 261,
    "deepnote_cell_type": "code",
    "deepnote_to_be_reexecuted": false,
    "execution_millis": 6,
    "execution_start": 1652953508509,
    "source_hash": "55c25aa5",
    "tags": []
   },
   "outputs": [],
   "source": [
    "E_js = w[0:400]\n",
    "\n",
    "# BOX BOUNDARY CONDITION: add a 0 in front and at the end of every autovector.\n",
    "#psi_js = np.pad(v.T[0:400], [(0, 0), (1, 1)], mode='constant')\n",
    "\n",
    "# FREE BOUNDARY CONDITION:\n",
    "psi_js = v.T[0:400]\n",
    "\n",
    "cs = np.dot(psi_js, psi0)\n",
    "def psi_t(t):\n",
    "    return psi_js.T@(cs*np.exp(-1j*E_js*t))"
   ]
  },
  {
   "cell_type": "code",
   "execution_count": null,
   "metadata": {
    "cell_id": "ab2b2187579b4ddabe393e19178dcd25",
    "deepnote_cell_height": 99,
    "deepnote_cell_type": "code",
    "deepnote_to_be_reexecuted": false,
    "execution_millis": 929,
    "execution_start": 1652953510123,
    "source_hash": "23769056",
    "tags": []
   },
   "outputs": [],
   "source": [
    "psi_evol = np.array([psi_t(ti) for ti in t ])\n"
   ]
  },
  {
   "cell_type": "code",
   "execution_count": null,
   "metadata": {
    "cell_id": "6e0d32d33fad435aae69a0c367007ba0",
    "deepnote_cell_height": 399.1875,
    "deepnote_cell_type": "code",
    "deepnote_output_heights": [
     21.1875,
     250
    ],
    "deepnote_to_be_reexecuted": false,
    "execution_millis": 212,
    "execution_start": 1652953517701,
    "source_hash": "8056b83e",
    "tags": []
   },
   "outputs": [
    {
     "data": {
      "text/plain": [
       "[<matplotlib.lines.Line2D at 0x7fae547714f0>]"
      ]
     },
     "execution_count": 67,
     "metadata": {},
     "output_type": "execute_result"
    },
    {
     "data": {
      "image/png": "[encoded data removed]",
      "text/plain": [
       "<Figure size 432x288 with 1 Axes>"
      ]
     },
     "metadata": {
      "image/png": {
       "height": 248,
       "width": 372
      },
      "needs_background": "light"
     },
     "output_type": "display_data"
    }
   ],
   "source": [
    "plt.plot(x, abs(psi_evol[0])**2)"
   ]
  },
  {
   "cell_type": "code",
   "execution_count": null,
   "metadata": {
    "cell_id": "00010-81a0af99-e4ce-49dc-b90c-b6bb950caacc",
    "deepnote_cell_height": 1292,
    "deepnote_cell_type": "code",
    "deepnote_output_heights": [
     null,
     375
    ],
    "deepnote_to_be_reexecuted": false,
    "execution_millis": 50331,
    "execution_start": 1652953520456,
    "source_hash": "8448ae3",
    "tags": []
   },
   "outputs": [
    {
     "name": "stdout",
     "output_type": "stream",
     "text": [
      "Generating animation\n"
     ]
    },
    {
     "data": {
      "image/png": "[encoded data removed]",
      "text/plain": [
       "<Figure size 576x432 with 2 Axes>"
      ]
     },
     "metadata": {
      "image/png": {
       "height": 373,
       "width": 492
      },
      "needs_background": "light"
     },
     "output_type": "display_data"
    }
   ],
   "source": [
    "# Animation settings\n",
    "\n",
    "duration = 10\n",
    "fps = 15\n",
    "\n",
    "fig = plt.figure(figsize=(8, 6))\n",
    "\n",
    "ax1 = plt.subplot(2, 1, 1)\n",
    "ax1.set_xlim(-7.5, 7.5)\n",
    "ax1.set_ylim(0, 1)\n",
    "title = ax1.set_title('')\n",
    "line11, = ax1.plot([], [], \"k--\", label=r\"$V(x)$ (x0.001)\")\n",
    "line12, = ax1.plot([], [], \"b\", label=r\"$\\vert \\psi \\vert^2$\")\n",
    "plt.legend(loc=1, fontsize=8, fancybox=False)\n",
    "\n",
    "ax2 = plt.subplot(2, 1, 2)\n",
    "ax2.set_xlim(-7.5, 7.5)\n",
    "ax2.set_ylim(-1, 1)\n",
    "line21, = ax2.plot([], [], \"k--\", label=r\"$V(x)$ (x0.001)\")\n",
    "line22, = ax2.plot([], [], \"r\", label=r\"$Re\\{ \\psi \\}$\")\n",
    "plt.legend(loc=1, fontsize=8, fancybox=False)\n",
    "\n",
    "\n",
    "def init():\n",
    "    line11.set_data(x, V(x)/10 )\n",
    "    line21.set_data(x, V(x)/10 )\n",
    "    return line11, line21\n",
    "\n",
    "\n",
    "def animate(i):\n",
    "    line12.set_data(x, np.abs(psi_evol[i,:])**2)\n",
    "    line22.set_data(x, np.real(psi_evol[i,:]))\n",
    "    title.set_text('Time = {0:1.3f}'.format(t[i]))\n",
    "    return line12, line22\n",
    "\n",
    "\n",
    "anim = animation.FuncAnimation(fig, animate, init_func=init, interval=1, blit=True, frames=np.linspace(0,len(t),fps*duration, dtype=np.int32,endpoint=False))\n",
    "\n",
    "writer = animation.FFMpegWriter(fps=fps, bitrate=-1, codec=\"h264\")#, extra_args=['-preset', 'veryslow', '-qp', '0'])\n",
    "# Save the animation into a short video\n",
    "print(\"Generating animation\")\n",
    "# anim.save('step@2x.gif', writer='pillow', fps=15)\n",
    "# anim.save('step@2x.gif', writer='imagemagick', fps=15, dpi=150, extra_args=['-layers Optimize'])\n",
    "anim.save('Data/Simulation_video/EigenEvol.mp4', writer=writer, dpi=150)"
   ]
  },
  {
   "cell_type": "code",
   "execution_count": null,
   "metadata": {
    "cell_id": "6f60d6afe2584ce79ad00ef0f621d3b2",
    "deepnote_cell_height": 135,
    "deepnote_cell_type": "code",
    "deepnote_to_be_reexecuted": false,
    "execution_millis": 746,
    "execution_start": 1652953685953,
    "owner_user_id": "4bfb3eff-5931-45a9-ba80-91edcec3b373",
    "source_hash": "8f0fb1ba",
    "tags": []
   },
   "outputs": [],
   "source": [
    "# Write data to File\n",
    "path = './Data/Simulations/'\n",
    "potential_name = 'Harmonic_w1'\n",
    "pd.DataFrame(psi_evol).to_csv(path+potential_name+\".csv\")"
   ]
  },
  {
   "cell_type": "code",
   "execution_count": null,
   "metadata": {
    "cell_id": "39e50831060045e18ffd1d25c3301d3c",
    "deepnote_cell_height": 66,
    "deepnote_cell_type": "code",
    "owner_user_id": "67dc8955-4c9e-4d52-9ce7-8ef7a326fd8b",
    "tags": []
   },
   "outputs": [],
   "source": []
  },
  {
   "cell_type": "markdown",
   "metadata": {
    "created_in_deepnote_cell": true,
    "deepnote_cell_type": "markdown",
    "tags": []
   },
   "source": [
    "<a style='text-decoration:none;line-height:16px;display:flex;color:#5B5B62;padding:10px;justify-content:end;' href='https://deepnote.com?utm_source=created-in-deepnote-cell&projectId=964d390d-0269-41ab-86ee-4ee3752d1778' target=\"_blank\">\n",
    "<img alt='Created in deepnote.com' style='display:inline;max-height:16px;margin:0px;margin-right:7.5px;' src='data:image/svg+xml;base64,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' > </img>\n",
    "Created in <span style='font-weight:600;margin-left:4px;'>Deepnote</span></a>"
   ]
  }
 ],
 "metadata": {
  "deepnote": {
   "is_reactive": false
  },
  "deepnote_execution_queue": [],
  "deepnote_notebook_id": "f2448dc5-be98-4a6e-b957-acdb09d5974e",
  "kernelspec": {
   "display_name": "Python [conda env:SINDy]",
   "language": "python",
   "name": "conda-env-SINDy-py"
  },
  "language_info": {
   "codemirror_mode": {
    "name": "ipython",
    "version": 3
   },
   "file_extension": ".py",
   "mimetype": "text/x-python",
   "name": "python",
   "nbconvert_exporter": "python",
   "pygments_lexer": "ipython3",
   "version": "3.8.13"
  }
 },
 "nbformat": 4,
 "nbformat_minor": 4
}
