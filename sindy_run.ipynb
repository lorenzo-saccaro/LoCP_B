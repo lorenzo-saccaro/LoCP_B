{
 "cells": [
  {
   "cell_type": "code",
   "execution_count": 1,
   "id": "b767e950-0638-47ae-b7d5-b8ff1a617da6",
   "metadata": {},
   "outputs": [],
   "source": [
    "from double_well import run_sindy\n",
    "import numpy as np\n",
    "from itertools import product"
   ]
  },
  {
   "cell_type": "code",
   "execution_count": 2,
   "id": "64ab599e-6828-49df-b67b-ddc7041b1954",
   "metadata": {},
   "outputs": [],
   "source": [
    "filename='./Data/Simulations/double_well_xs_2.828_d_0.000_mu_0.1.h5'"
   ]
  },
  {
   "cell_type": "code",
   "execution_count": 3,
   "id": "aa302d82-a60b-4a14-bfed-2909fd445193",
   "metadata": {},
   "outputs": [],
   "source": [
    "noise_levels = [0]\n",
    "train_fracs = [0.01, 0.1, 0.8]\n",
    "sampling_freqs = [2,4,5,10]\n",
    "\n",
    "par_list = list(product(noise_levels,train_fracs,sampling_freqs))\n"
   ]
  },
  {
   "cell_type": "code",
   "execution_count": 4,
   "id": "1a6c9849-6915-4a50-99f4-913a76e84163",
   "metadata": {},
   "outputs": [
    {
     "name": "stderr",
     "output_type": "stream",
     "text": [
      "C:\\Users\\loren\\anaconda3\\envs\\sindy\\lib\\site-packages\\pysindy\\optimizers\\stlsq.py:183: UserWarning: Sparsity parameter is too big (1) and eliminated all coefficients\n",
      "  warnings.warn(\n",
      "C:\\Users\\loren\\anaconda3\\envs\\sindy\\lib\\site-packages\\pysindy\\optimizers\\stlsq.py:183: UserWarning: Sparsity parameter is too big (1) and eliminated all coefficients\n",
      "  warnings.warn(\n",
      "C:\\Users\\loren\\anaconda3\\envs\\sindy\\lib\\site-packages\\pysindy\\optimizers\\stlsq.py:183: UserWarning: Sparsity parameter is too big (1) and eliminated all coefficients\n",
      "  warnings.warn(\n",
      "C:\\Users\\loren\\anaconda3\\envs\\sindy\\lib\\site-packages\\pysindy\\optimizers\\stlsq.py:183: UserWarning: Sparsity parameter is too big (1) and eliminated all coefficients\n",
      "  warnings.warn(\n",
      "C:\\Users\\loren\\anaconda3\\envs\\sindy\\lib\\site-packages\\pysindy\\optimizers\\stlsq.py:183: UserWarning: Sparsity parameter is too big (1) and eliminated all coefficients\n",
      "  warnings.warn(\n",
      "C:\\Users\\loren\\anaconda3\\envs\\sindy\\lib\\site-packages\\pysindy\\optimizers\\stlsq.py:183: UserWarning: Sparsity parameter is too big (1) and eliminated all coefficients\n",
      "  warnings.warn(\n",
      "C:\\Users\\loren\\anaconda3\\envs\\sindy\\lib\\site-packages\\pysindy\\optimizers\\stlsq.py:183: UserWarning: Sparsity parameter is too big (1) and eliminated all coefficients\n",
      "  warnings.warn(\n",
      "C:\\Users\\loren\\anaconda3\\envs\\sindy\\lib\\site-packages\\pysindy\\optimizers\\stlsq.py:183: UserWarning: Sparsity parameter is too big (1) and eliminated all coefficients\n",
      "  warnings.warn(\n",
      "C:\\Users\\loren\\anaconda3\\envs\\sindy\\lib\\site-packages\\pysindy\\optimizers\\stlsq.py:183: UserWarning: Sparsity parameter is too big (1) and eliminated all coefficients\n",
      "  warnings.warn(\n",
      "C:\\Users\\loren\\anaconda3\\envs\\sindy\\lib\\site-packages\\pysindy\\optimizers\\stlsq.py:183: UserWarning: Sparsity parameter is too big (1) and eliminated all coefficients\n",
      "  warnings.warn(\n",
      "C:\\Users\\loren\\anaconda3\\envs\\sindy\\lib\\site-packages\\pysindy\\optimizers\\stlsq.py:183: UserWarning: Sparsity parameter is too big (1) and eliminated all coefficients\n",
      "  warnings.warn(\n",
      "C:\\Users\\loren\\anaconda3\\envs\\sindy\\lib\\site-packages\\pysindy\\optimizers\\stlsq.py:183: UserWarning: Sparsity parameter is too big (1) and eliminated all coefficients\n",
      "  warnings.warn(\n"
     ]
    }
   ],
   "source": [
    "for par in par_list:\n",
    "    run_sindy(filename, *par)"
   ]
  },
  {
   "cell_type": "code",
   "execution_count": null,
   "id": "ac58137c-e2a1-4860-9e20-e5ba76a46c1c",
   "metadata": {},
   "outputs": [],
   "source": []
  }
 ],
 "metadata": {
  "kernelspec": {
   "display_name": "Python [conda env:SINDy]",
   "language": "python",
   "name": "conda-env-SINDy-py"
  },
  "language_info": {
   "codemirror_mode": {
    "name": "ipython",
    "version": 3
   },
   "file_extension": ".py",
   "mimetype": "text/x-python",
   "name": "python",
   "nbconvert_exporter": "python",
   "pygments_lexer": "ipython3",
   "version": "3.8.13"
  }
 },
 "nbformat": 4,
 "nbformat_minor": 5
}
